{
 "cells": [
  {
   "cell_type": "code",
   "execution_count": 1,
   "id": "a51c5dc5-925b-4a11-9295-5e3f4a6f20cb",
   "metadata": {},
   "outputs": [
    {
     "name": "stderr",
     "output_type": "stream",
     "text": [
      "/tmp/ipykernel_30482/3209162279.py:8: DeprecationWarning: \n",
      "Pyarrow will become a required dependency of pandas in the next major release of pandas (pandas 3.0),\n",
      "(to allow more performant data types, such as the Arrow string type, and better interoperability with other libraries)\n",
      "but was not found to be installed on your system.\n",
      "If this would cause problems for you,\n",
      "please provide us feedback at https://github.com/pandas-dev/pandas/issues/54466\n",
      "        \n",
      "  import pandas as pd\n"
     ]
    }
   ],
   "source": [
    "import torch\n",
    "import torch.nn as nn\n",
    "import torch.nn.functional as F\n",
    "from torch.nn.parameter import Parameter\n",
    "from torch.utils.data import DataLoader, TensorDataset\n",
    "import torch.optim as optim\n",
    "import numpy as np\n",
    "import pandas as pd\n",
    "import scanpy as sc\n",
    "import hexagdly\n",
    "import math"
   ]
  },
  {
   "cell_type": "code",
   "execution_count": 2,
   "id": "ad30bfc1-cd98-4a69-88e4-574ea95a1e48",
   "metadata": {},
   "outputs": [],
   "source": [
    "def data_processing(data_path, file_nums, k):\n",
    "    # labels = []\n",
    "    nums = file_nums\n",
    "    features = np.zeros((len(nums), k, 64, 78))\n",
    "    for i in range(len(nums)):\n",
    "        print(f'processing no. {nums[i]}')\n",
    "        num = nums[i]\n",
    "        cells=pd.read_csv(f'{data_path}/{num}/ck17_{num}_cell_barcodes.txt')\n",
    "        gene=pd.read_csv(f'{data_path}/{num}/ck17_{num}_gene_names.txt', dtype={\n",
    "            'no': 'int64',\n",
    "            'gene name': 'string'\n",
    "        })\n",
    "        meta=pd.read_csv(f'{data_path}/{num}/ck17_{num}_metadata.txt')\n",
    "        if 'barcode' not in meta.columns:\n",
    "            meta=meta.rename(columns={\"Unnamed: 0\":\"barcode\"})\n",
    "        adata=sc.read_mtx(f'{data_path}/{num}/ck17_{num}_gex_data.txt').T\n",
    "        position = pd.read_csv(f'{data_path}/{num}/ck17_{num}_tissue_positions_list.csv', names=['in_tissue', 'row', 'col', 'pixel_row', 'pixel_col'])\n",
    "        position['barcode'] = position.index\n",
    "        adata.obs.index=cells['x']\n",
    "        adata.var.index=gene['x']\n",
    "        meta.index=meta.iloc[:,0]\n",
    "        adata.obs=meta\n",
    "    \n",
    "        adata.obs.index.name='idx'\n",
    "        obs = adata.obs.merge(position[['row', 'col', 'barcode']], on='barcode', how='inner')\n",
    "        # get the label: 0 for non-responder and 1 for responder\n",
    "        # if obs['ici_response'].unique().item() == 'NR':\n",
    "        #     labels.append(0)\n",
    "        # else:\n",
    "        #     labels.append(1)\n",
    "\n",
    "        # get geneswith k-largest normalized gex\n",
    "        gex_filter = np.asarray(np.sum(adata.X.todense()>0,axis=0)/2261)\n",
    "        gene_no = np.argpartition(gex_filter, len(gex_filter) - k)\n",
    "        gex_total = np.asarray(adata.X.todense())\n",
    "    \n",
    "        for j in range(k):\n",
    "            for idx, row in obs.iterrows():\n",
    "                hex_row = row['row']\n",
    "                hex_col = row['col']\n",
    "                mat_col = hex_row\n",
    "                mat_row = math.floor(hex_col/2)\n",
    "                features[i][j][mat_row][mat_col] = gex_total[idx][gene_no[0][-k:][j]]\n",
    "\n",
    "    return features"
   ]
  },
  {
   "cell_type": "code",
   "execution_count": 3,
   "id": "878f6885-230d-4ba3-9aee-2e1df28d1437",
   "metadata": {},
   "outputs": [],
   "source": [
    "def to_dataloader(features, labels, batch_size=2):\n",
    "    data = torch.tensor(features, dtype=torch.float32)\n",
    "    labels = np.asarray(labels)\n",
    "    labels = torch.tensor(labels, dtype=torch.float32).unsqueeze(1)\n",
    "    train_data, val_data = data[:7], data[7:]\n",
    "    train_labels, val_labels = labels[:7], labels[7:]\n",
    "    train_dataset = TensorDataset(train_data, train_labels)\n",
    "    val_dataset = TensorDataset(val_data, val_labels)\n",
    "    train_loader = DataLoader(train_dataset, batch_size=batch_size, shuffle=True)\n",
    "    val_loader = DataLoader(train_dataset, batch_size=batch_size, shuffle=False)\n",
    "    return train_loader, val_loader"
   ]
  },
  {
   "cell_type": "code",
   "execution_count": 4,
   "id": "bc02515b-4608-45da-9d48-7a0a36b6a257",
   "metadata": {},
   "outputs": [],
   "source": [
    "class hex_model(nn.Module):\n",
    "    def __init__(self, nin):          \n",
    "        super(hex_model, self).__init__()\n",
    "        self.name = 'hex_model'\n",
    "        self.hexconv1 = hexagdly.Conv2d(in_channels = nin, out_channels = 128, \\\n",
    "                                         kernel_size = 2, stride = 1, bias=True)\n",
    "        self.hexpool1 = hexagdly.MaxPool2d(kernel_size = 2, stride = 2)\n",
    "        self.hexconv2 = hexagdly.Conv2d(128, 64, 2, 1, bias=True)\n",
    "        self.hexpool2 = hexagdly.MaxPool2d(kernel_size = 2, stride = 1)\n",
    "        self.bn1 = nn.BatchNorm2d(128)\n",
    "        self.bn2 = nn.BatchNorm2d(64)\n",
    "        \n",
    "        self.dropout = nn.Dropout(0.5)\n",
    "\n",
    "        self.fc1 = nn.Linear(64 * 32 * 39, 512)\n",
    "        self.fc2 = nn.Linear(512, 100)\n",
    "        self.fc3 = nn.Linear(100, 1)\n",
    "\n",
    "    def forward(self, x):\n",
    "        x = self.hexconv1(x)\n",
    "        x = self.bn1(x)\n",
    "        x = F.relu(x)\n",
    "        x = self.hexpool1(x)\n",
    "\n",
    "        x = self.hexconv2(x)\n",
    "        x = self.bn2(x)\n",
    "        x = F.relu(x)\n",
    "        x = self.hexpool2(x)\n",
    "\n",
    "        x = self.dropout(x)\n",
    "        x = x.view(x.size(0), -1)\n",
    "\n",
    "        x = F.relu(self.fc1(x))\n",
    "        x = self.dropout(x)\n",
    "        x = F.relu(self.fc2(x))\n",
    "        x = self.dropout(x)\n",
    "        x = self.fc3(x)\n",
    "\n",
    "        return x"
   ]
  },
  {
   "cell_type": "code",
   "execution_count": 9,
   "id": "15b5aaf9-554a-470d-8b99-5e9e750b9be6",
   "metadata": {
    "scrolled": true
   },
   "outputs": [
    {
     "name": "stdout",
     "output_type": "stream",
     "text": [
      "processing no. 5\n",
      "processing no. 7\n",
      "processing no. 12\n",
      "processing no. 19\n",
      "processing no. 21\n",
      "processing no. 27\n",
      "processing no. 208\n",
      "processing no. 209\n",
      "processing no. 1294\n"
     ]
    }
   ],
   "source": [
    "input_channel = 1000\n",
    "features = data_processing(\"Visium\", [5,7,12,19,21,27,208,209,1294], input_channel)\n",
    "labels = [1, 0, 0, 0, 0, 1, 0, 1, 1]\n",
    "train_loader, val_loader = to_dataloader(features, labels, 2)"
   ]
  },
  {
   "cell_type": "code",
   "execution_count": 10,
   "id": "441781a7-ea29-42e0-af24-c6069ae498c4",
   "metadata": {},
   "outputs": [
    {
     "name": "stdout",
     "output_type": "stream",
     "text": [
      "Epoch 1, Train Loss: 3724.4043217003345, Validation Loss: 7274633.78125\n",
      "Epoch 2, Train Loss: 30067.76904296875, Validation Loss: 121194.14282226562\n",
      "Epoch 3, Train Loss: 897.3391833305359, Validation Loss: 36523.39596557617\n",
      "Epoch 4, Train Loss: 3505.7386169433594, Validation Loss: 41250.22009277344\n",
      "Epoch 5, Train Loss: 9628.784912109375, Validation Loss: 6883.681375980377\n",
      "Epoch 6, Train Loss: 26655.499450683594, Validation Loss: 31019.085388183594\n",
      "Epoch 7, Train Loss: 10520.930389404297, Validation Loss: 1554.0316314697266\n",
      "Epoch 8, Train Loss: 12639.578033447266, Validation Loss: 3224.2072019577026\n",
      "Epoch 9, Train Loss: 1232.2080459594727, Validation Loss: 1295.5415439605713\n",
      "Epoch 10, Train Loss: 3506.4797165319324, Validation Loss: 812.1176986694336\n",
      "Epoch 11, Train Loss: 845.1224594116211, Validation Loss: 56.74554252624512\n",
      "Epoch 12, Train Loss: 226.6702709197998, Validation Loss: 121.26984214782715\n",
      "Epoch 13, Train Loss: 377.58578872680664, Validation Loss: 96.91856098175049\n",
      "Epoch 14, Train Loss: 367.9763994216919, Validation Loss: 10.208497166633606\n",
      "Epoch 15, Train Loss: 126.28413558006287, Validation Loss: 13.248733401298523\n",
      "Epoch 16, Train Loss: 43.038578033447266, Validation Loss: 9.163356184959412\n",
      "Epoch 17, Train Loss: 60.51851090788841, Validation Loss: 4.872089922428131\n",
      "Epoch 18, Train Loss: 15.07105541229248, Validation Loss: 3.0303244292736053\n",
      "Epoch 19, Train Loss: 37.16422629728913, Validation Loss: 1.6118768006563187\n",
      "Epoch 20, Train Loss: 23.697412192821503, Validation Loss: 1.0503439400345087\n",
      "Epoch 21, Train Loss: 53.34092926979065, Validation Loss: 0.40529089083429426\n",
      "Epoch 22, Train Loss: 16.035721704363823, Validation Loss: 0.3991942083230242\n",
      "Epoch 23, Train Loss: 8.231787741184235, Validation Loss: 1.5846992880105972\n",
      "Epoch 24, Train Loss: 17.946226239204407, Validation Loss: 3.0442379117012024\n",
      "Epoch 25, Train Loss: 12.02290703356266, Validation Loss: 2.2593007683753967\n"
     ]
    }
   ],
   "source": [
    "device = torch.device(\"cuda\" if torch.cuda.is_available() else \"cpu\")\n",
    "model = hex_model(input_channel).to(device)\n",
    "criterion = nn.MSELoss()\n",
    "optimizer = optim.Adam(model.parameters(), lr=0.005)\n",
    "epochs = 25\n",
    "train_losses, val_losses = [], []\n",
    "for epoch in range(epochs):\n",
    "    # training period\n",
    "    model.train()\n",
    "    running_loss = 0\n",
    "    for inputs, targets in train_loader:\n",
    "        inputs, targets = inputs.to(device), targets.to(device)\n",
    "        optimizer.zero_grad()\n",
    "        outputs = model(inputs)\n",
    "        loss = criterion(outputs, targets)\n",
    "        loss.backward()\n",
    "        optimizer.step()\n",
    "        running_loss += loss.item()\n",
    "    train_losses.append(running_loss/len(train_loader))\n",
    "\n",
    "    # evaluation period\n",
    "    model.eval()\n",
    "    val_loss = 0.0\n",
    "    with torch.no_grad():\n",
    "        for inputs, targets in val_loader:\n",
    "            inputs, targets = inputs.to(device), targets.to(device)\n",
    "            outputs = model(inputs)\n",
    "            loss = criterion(outputs, targets)\n",
    "            val_loss += loss.item()\n",
    "    val_losses.append(val_loss/len(val_loader))\n",
    "    \n",
    "    print(f'Epoch {epoch+1}, Train Loss: {train_losses[-1]}, Validation Loss: {val_losses[-1]}')"
   ]
  },
  {
   "cell_type": "code",
   "execution_count": 11,
   "id": "89097454-73a4-4a52-85ee-bcde1fb9aa88",
   "metadata": {},
   "outputs": [
    {
     "data": {
      "image/png": "[encoded data removed]",
      "text/plain": [
       "<Figure size 640x480 with 1 Axes>"
      ]
     },
     "metadata": {},
     "output_type": "display_data"
    }
   ],
   "source": [
    "import matplotlib.pyplot as plt\n",
    "plt.plot(train_losses, label = 'Training Loss')\n",
    "plt.xlabel(\"Epoch\")\n",
    "plt.ylabel(\"Training Loss\")\n",
    "plt.show()"
   ]
  },
  {
   "cell_type": "code",
   "execution_count": 12,
   "id": "af51d8e7-a37f-4c08-8544-3f75954a4665",
   "metadata": {},
   "outputs": [
    {
     "data": {
      "image/png": "[encoded data removed]",
      "text/plain": [
       "<Figure size 640x480 with 1 Axes>"
      ]
     },
     "metadata": {},
     "output_type": "display_data"
    }
   ],
   "source": [
    "plt.plot(val_losses, label = 'Validation Loss')\n",
    "plt.xlabel(\"Epoch\")\n",
    "plt.ylabel(\"Validation Loss\")\n",
    "plt.show()"
   ]
  }
 ],
 "metadata": {
  "kernelspec": {
   "display_name": "Python 3 (ipykernel)",
   "language": "python",
   "name": "python3"
  },
  "language_info": {
   "codemirror_mode": {
    "name": "ipython",
    "version": 3
   },
   "file_extension": ".py",
   "mimetype": "text/x-python",
   "name": "python",
   "nbconvert_exporter": "python",
   "pygments_lexer": "ipython3",
   "version": "3.10.12"
  }
 },
 "nbformat": 4,
 "nbformat_minor": 5
}
