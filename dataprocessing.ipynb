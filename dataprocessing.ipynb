{
 "cells": [
  {
   "cell_type": "code",
   "execution_count": 1,
   "id": "aa577482-0d1f-4006-a0bf-6e8a3b23b627",
   "metadata": {},
   "outputs": [],
   "source": [
    "import os\n",
    "import scanpy as sc\n",
    "import pandas as pd\n",
    "import numpy as np\n",
    "import math"
   ]
  },
  {
   "cell_type": "code",
   "execution_count": 2,
   "id": "d4c87ce2-0ab9-416a-936a-720810e66f3d",
   "metadata": {},
   "outputs": [],
   "source": [
    "def data_processing(data_path, file_nums, k):\n",
    "    labels = []\n",
    "    nums = file_nums\n",
    "    features = np.zeros((len(nums), k, 64, 78))\n",
    "    for i in range(len(nums)):\n",
    "        print(f'processing no. {nums[i]}')\n",
    "        num = nums[i]\n",
    "        cells=pd.read_csv(f'{data_path}/{num}/ck17_{num}_cell_barcodes.txt')\n",
    "        gene=pd.read_csv(f'{data_path}/{num}/ck17_{num}_gene_names.txt', dtype={\n",
    "            'no': 'int64',\n",
    "            'gene name': 'string'\n",
    "        })\n",
    "        meta=pd.read_csv(f'{data_path}/{num}/ck17_{num}_metadata.txt')\n",
    "        if 'barcode' not in meta.columns:\n",
    "            meta=meta.rename(columns={\"Unnamed: 0\":\"barcode\"})\n",
    "        adata=sc.read_mtx(f'{data_path}/{num}/ck17_{num}_gex_data.txt').T\n",
    "        position = pd.read_csv(f'{data_path}/{num}/ck17_{num}_tissue_positions_list.csv', names=['in_tissue', 'row', 'col', 'pixel_row', 'pixel_col'])\n",
    "        position['barcode'] = position.index\n",
    "        adata.obs.index=cells['x']\n",
    "        adata.var.index=gene['x']\n",
    "        meta.index=meta.iloc[:,0]\n",
    "        adata.obs=meta\n",
    "    \n",
    "        adata.obs.index.name='idx'\n",
    "        obs = adata.obs.merge(position[['row', 'col', 'barcode']], on='barcode', how='inner')\n",
    "        # get the label: 0 for non-responder and 1 for responder\n",
    "        if obs['ici_response'].unique().item() == 'NR':\n",
    "            labels.append(0)\n",
    "        else:\n",
    "            labels.append(1)\n",
    "\n",
    "        # get geneswith k-largest normalized gex\n",
    "        gex_filter = np.asarray(np.sum(adata.X.todense()>0,axis=0)/2261)\n",
    "        gene_no = np.argpartition(gex_filter, len(gex_filter) - k)\n",
    "        gex_total = np.asarray(adata.X.todense())\n",
    "    \n",
    "        for j in range(k):\n",
    "            for idx, row in obs.iterrows():\n",
    "                hex_row = row['row']\n",
    "                hex_col = row['col']\n",
    "                mat_col = hex_row\n",
    "                mat_row = math.floor(hex_col/2)\n",
    "                features[i][j][mat_row][mat_col] = gex_total[idx][gene_no[0][-k:][j]]\n",
    "\n",
    "    return features, labels"
   ]
  },
  {
   "cell_type": "code",
   "execution_count": 5,
   "id": "f5060a6b-6dba-495f-9abf-efccc36ae4d8",
   "metadata": {},
   "outputs": [
    {
     "name": "stdout",
     "output_type": "stream",
     "text": [
      "processing no. 5\n",
      "processing no. 7\n",
      "processing no. 12\n",
      "processing no. 19\n",
      "processing no. 208\n",
      "processing no. 209\n",
      "processing no. 1294\n"
     ]
    },
    {
     "data": {
      "text/plain": [
       "(7, 100, 64, 78)"
      ]
     },
     "execution_count": 5,
     "metadata": {},
     "output_type": "execute_result"
    }
   ],
   "source": [
    "data_path = \"Visium\"\n",
    "nums = [5, 7, 12, 19, 208, 209, 1294]\n",
    "k=100\n",
    "features, labels = data_processing(data_path, nums, k)\n",
    "features.shape"
   ]
  },
  {
   "cell_type": "code",
   "execution_count": 6,
   "id": "6aee30e0-b66a-4cc0-bd11-14029453a351",
   "metadata": {},
   "outputs": [
    {
     "data": {
      "text/plain": [
       "[1, 0, 0, 0, 0, 1, 1]"
      ]
     },
     "execution_count": 6,
     "metadata": {},
     "output_type": "execute_result"
    }
   ],
   "source": [
    "labels"
   ]
  }
 ],
 "metadata": {
  "kernelspec": {
   "display_name": "Python 3 (ipykernel)",
   "language": "python",
   "name": "python3"
  },
  "language_info": {
   "codemirror_mode": {
    "name": "ipython",
    "version": 3
   },
   "file_extension": ".py",
   "mimetype": "text/x-python",
   "name": "python",
   "nbconvert_exporter": "python",
   "pygments_lexer": "ipython3",
   "version": "3.10.12"
  }
 },
 "nbformat": 4,
 "nbformat_minor": 5
}
